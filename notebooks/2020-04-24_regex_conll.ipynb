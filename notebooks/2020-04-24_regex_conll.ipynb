{
 "cells": [
  {
   "cell_type": "markdown",
   "metadata": {
    "collapsed": true,
    "pycharm": {
     "name": "#%% md\n"
    }
   },
   "source": [
    "## Objective\n",
    "\n",
    "## Guiding Questions:\n",
    "1. What is the easiest way to parse the connl file?\n",
    "2. Can I use regex to extract a tuple containing token, tag?\n",
    "\n",
    "## Key findings\n",
    "*Pattern*\n",
    "- `(?:(\\S+)(?:\\t)(\\S+))+')`\n",
    "*Pre-processing*\n",
    "- open file, and let `doc = f.read()`\n",
    "- let `split_doc = doc.split('\\n\\n')` (i.e. split on empty lines, which are sentence delimiters)\n",
    "*Match*\n",
    "- `[re.findall(pattern, sentence) for sentence in split_doc]` results in a list where each entry is a list of tuples `(token, tag)`."
   ]
  },
  {
   "cell_type": "markdown",
   "source": [
    "## Imports and setup"
   ],
   "metadata": {
    "collapsed": false
   }
  },
  {
   "cell_type": "code",
   "execution_count": 131,
   "outputs": [],
   "source": [
    "import warnings\n",
    "warnings.filterwarnings('ignore')\n",
    "\n",
    "import re"
   ],
   "metadata": {
    "collapsed": false,
    "pycharm": {
     "name": "#%%\n"
    }
   }
  },
  {
   "cell_type": "markdown",
   "source": [
    "Path to one of the conll datasets:"
   ],
   "metadata": {
    "collapsed": false,
    "pycharm": {
     "name": "#%% md\n"
    }
   }
  },
  {
   "cell_type": "code",
   "execution_count": 132,
   "outputs": [],
   "source": [
    "filepath = '/home/fero/Desktop/nlp/in5550-2020-exam/data/raw/dev.conll'"
   ],
   "metadata": {
    "collapsed": false,
    "pycharm": {
     "name": "#%%\n"
    }
   }
  },
  {
   "cell_type": "markdown",
   "source": [
    "Test lines:"
   ],
   "metadata": {
    "collapsed": false,
    "pycharm": {
     "name": "#%% md\n"
    }
   }
  },
  {
   "cell_type": "code",
   "source": [
    "line = 'Karsten\tO'\n",
    "sentence = '''Karsten\tO\n",
    "og\tO\n",
    "Petra\tO\n",
    "på\tO\n",
    "safari\tO\n",
    ":\tO'''"
   ],
   "metadata": {
    "collapsed": false,
    "pycharm": {
     "name": "#%%\n"
    }
   },
   "execution_count": 133,
   "outputs": []
  },
  {
   "cell_type": "markdown",
   "source": [
    "#### Regex pattern 1."
   ],
   "metadata": {
    "collapsed": false,
    "pycharm": {
     "name": "#%% md\n"
    }
   }
  },
  {
   "cell_type": "code",
   "source": [
    "p1 = re.compile(r'(?:(\\S+)(?:\\t)(\\S+))+')\n",
    "match_line1 = re.match(p1, line)\n",
    "match_sentence1 = re.match(p1, sentence)\n",
    "search_line1 = re.search(p1, line)\n",
    "search_sentence1 = re.search(p1, sentence)\n",
    "findall1 = re.findall(p1, sentence)"
   ],
   "metadata": {
    "collapsed": false,
    "pycharm": {
     "name": "#%%\n"
    }
   },
   "execution_count": 134,
   "outputs": []
  },
  {
   "cell_type": "code",
   "execution_count": 135,
   "outputs": [
    {
     "name": "stdout",
     "output_type": "stream",
     "text": [
      "P1 line, match.groups()\n"
     ]
    },
    {
     "data": {
      "text/plain": "('Karsten', 'O')"
     },
     "execution_count": 135,
     "metadata": {},
     "output_type": "execute_result"
    }
   ],
   "source": [
    "print('P1 line, match.groups()')\n",
    "match_line1.groups()"
   ],
   "metadata": {
    "collapsed": false,
    "pycharm": {
     "name": "#%%\n"
    }
   }
  },
  {
   "cell_type": "code",
   "execution_count": 136,
   "outputs": [
    {
     "name": "stdout",
     "output_type": "stream",
     "text": [
      "P1 line, search.groups()\n"
     ]
    },
    {
     "data": {
      "text/plain": "('Karsten', 'O')"
     },
     "execution_count": 136,
     "metadata": {},
     "output_type": "execute_result"
    }
   ],
   "source": [
    "print('P1 line, search.groups()')\n",
    "search_line1.groups()"
   ],
   "metadata": {
    "collapsed": false,
    "pycharm": {
     "name": "#%%\n"
    }
   }
  },
  {
   "cell_type": "code",
   "execution_count": 137,
   "outputs": [
    {
     "name": "stdout",
     "output_type": "stream",
     "text": [
      "P1 sentence, match.groups()\n"
     ]
    },
    {
     "data": {
      "text/plain": "('Karsten', 'O')"
     },
     "execution_count": 137,
     "metadata": {},
     "output_type": "execute_result"
    }
   ],
   "source": [
    "print('P1 sentence, match.groups()')\n",
    "match_sentence1.groups()"
   ],
   "metadata": {
    "collapsed": false,
    "pycharm": {
     "name": "#%%\n"
    }
   }
  },
  {
   "cell_type": "code",
   "execution_count": 138,
   "outputs": [
    {
     "name": "stdout",
     "output_type": "stream",
     "text": [
      "P1 sentence, search.groups()\n"
     ]
    },
    {
     "data": {
      "text/plain": "('Karsten', 'O')"
     },
     "execution_count": 138,
     "metadata": {},
     "output_type": "execute_result"
    }
   ],
   "source": [
    "print('P1 sentence, search.groups()')\n",
    "search_sentence1.groups()"
   ],
   "metadata": {
    "collapsed": false,
    "pycharm": {
     "name": "#%%\n"
    }
   }
  },
  {
   "cell_type": "code",
   "execution_count": 139,
   "outputs": [
    {
     "name": "stdout",
     "output_type": "stream",
     "text": [
      "P1 sentence, findall()\n"
     ]
    },
    {
     "data": {
      "text/plain": "[('Karsten', 'O'),\n ('og', 'O'),\n ('Petra', 'O'),\n ('på', 'O'),\n ('safari', 'O'),\n (':', 'O')]"
     },
     "execution_count": 139,
     "metadata": {},
     "output_type": "execute_result"
    }
   ],
   "source": [
    "print('P1 sentence, findall()')\n",
    "findall1"
   ],
   "metadata": {
    "collapsed": false,
    "pycharm": {
     "name": "#%%\n"
    }
   }
  },
  {
   "cell_type": "markdown",
   "source": [
    "#### Regex pattern 2."
   ],
   "metadata": {
    "collapsed": false
   }
  },
  {
   "cell_type": "code",
   "execution_count": 140,
   "outputs": [],
   "source": [
    "p2 = re.compile(r'(?:(\\S+)(?:\\t)(\\S+)\\n?)+')\n",
    "match_line2 = re.match(p2, line)\n",
    "match_sentence2 = re.match(p2, sentence)\n",
    "search_line2 = re.search(p2, line)\n",
    "search_sentence2 = re.search(p2, sentence)\n",
    "findall2 = re.findall(p2, sentence)"
   ],
   "metadata": {
    "collapsed": false,
    "pycharm": {
     "name": "#%%\n"
    }
   }
  },
  {
   "cell_type": "code",
   "execution_count": 141,
   "outputs": [
    {
     "name": "stdout",
     "output_type": "stream",
     "text": [
      "P2 line, match.groups()\n"
     ]
    },
    {
     "data": {
      "text/plain": "('Karsten', 'O')"
     },
     "execution_count": 141,
     "metadata": {},
     "output_type": "execute_result"
    }
   ],
   "source": [
    "print('P2 line, match.groups()')\n",
    "match_line2.groups()"
   ],
   "metadata": {
    "collapsed": false,
    "pycharm": {
     "name": "#%%\n"
    }
   }
  },
  {
   "cell_type": "code",
   "execution_count": 142,
   "outputs": [
    {
     "name": "stdout",
     "output_type": "stream",
     "text": [
      "P2 line, search.groups()\n"
     ]
    },
    {
     "data": {
      "text/plain": "('Karsten', 'O')"
     },
     "execution_count": 142,
     "metadata": {},
     "output_type": "execute_result"
    }
   ],
   "source": [
    "print('P2 line, search.groups()')\n",
    "search_line2.groups()"
   ],
   "metadata": {
    "collapsed": false,
    "pycharm": {
     "name": "#%%\n"
    }
   }
  },
  {
   "cell_type": "code",
   "execution_count": 143,
   "outputs": [
    {
     "name": "stdout",
     "output_type": "stream",
     "text": [
      "P2 sentence, match.groups()\n"
     ]
    },
    {
     "data": {
      "text/plain": "(':', 'O')"
     },
     "execution_count": 143,
     "metadata": {},
     "output_type": "execute_result"
    }
   ],
   "source": [
    "print('P2 sentence, match.groups()')\n",
    "match_sentence2.groups()"
   ],
   "metadata": {
    "collapsed": false,
    "pycharm": {
     "name": "#%%\n"
    }
   }
  },
  {
   "cell_type": "code",
   "execution_count": 144,
   "outputs": [
    {
     "name": "stdout",
     "output_type": "stream",
     "text": [
      "P2 sentence, search.groups()\n"
     ]
    },
    {
     "data": {
      "text/plain": "(':', 'O')"
     },
     "execution_count": 144,
     "metadata": {},
     "output_type": "execute_result"
    }
   ],
   "source": [
    "print('P2 sentence, search.groups()')\n",
    "search_sentence2.groups()"
   ],
   "metadata": {
    "collapsed": false,
    "pycharm": {
     "name": "#%%\n"
    }
   }
  },
  {
   "cell_type": "code",
   "execution_count": 145,
   "outputs": [
    {
     "name": "stdout",
     "output_type": "stream",
     "text": [
      "P2 sentence, findall()\n"
     ]
    },
    {
     "data": {
      "text/plain": "[(':', 'O')]"
     },
     "execution_count": 145,
     "metadata": {},
     "output_type": "execute_result"
    }
   ],
   "source": [
    "print('P2 sentence, findall()')\n",
    "findall2"
   ],
   "metadata": {
    "collapsed": false,
    "pycharm": {
     "name": "#%%\n"
    }
   }
  },
  {
   "cell_type": "markdown",
   "source": [
    "#### Regex pattern 3."
   ],
   "metadata": {
    "collapsed": false,
    "pycharm": {
     "name": "#%% md\n"
    }
   }
  },
  {
   "cell_type": "code",
   "source": [
    "p3 = re.compile(r'(?:(\\S+)(?:\\t)(\\S+)\\n?)+')\n",
    "match_line3 = re.match(p3, line)\n",
    "match_sentence3 = re.match(p3, sentence)\n",
    "search_line3 = re.search(p3, line)\n",
    "search_sentence3 = re.search(p3, sentence)\n",
    "findall3 = re.findall(p3, sentence)"
   ],
   "metadata": {
    "collapsed": false,
    "pycharm": {
     "name": "#%%\n"
    }
   },
   "execution_count": 146,
   "outputs": []
  },
  {
   "cell_type": "code",
   "execution_count": 147,
   "outputs": [
    {
     "name": "stdout",
     "output_type": "stream",
     "text": [
      "P3 line, match.groups()\n"
     ]
    },
    {
     "data": {
      "text/plain": "('Karsten', 'O')"
     },
     "execution_count": 147,
     "metadata": {},
     "output_type": "execute_result"
    }
   ],
   "source": [
    "print('P3 line, match.groups()')\n",
    "match_line3.groups()"
   ],
   "metadata": {
    "collapsed": false,
    "pycharm": {
     "name": "#%%\n"
    }
   }
  },
  {
   "cell_type": "code",
   "execution_count": 148,
   "outputs": [
    {
     "name": "stdout",
     "output_type": "stream",
     "text": [
      "P3 line, search.groups()\n"
     ]
    },
    {
     "data": {
      "text/plain": "('Karsten', 'O')"
     },
     "execution_count": 148,
     "metadata": {},
     "output_type": "execute_result"
    }
   ],
   "source": [
    "print('P3 line, search.groups()')\n",
    "search_line3.groups()"
   ],
   "metadata": {
    "collapsed": false,
    "pycharm": {
     "name": "#%%\n"
    }
   }
  },
  {
   "cell_type": "code",
   "execution_count": 149,
   "outputs": [
    {
     "name": "stdout",
     "output_type": "stream",
     "text": [
      "P3 sentence, match.groups()\n"
     ]
    },
    {
     "data": {
      "text/plain": "(':', 'O')"
     },
     "execution_count": 149,
     "metadata": {},
     "output_type": "execute_result"
    }
   ],
   "source": [
    "print('P3 sentence, match.groups()')\n",
    "match_sentence3.groups()"
   ],
   "metadata": {
    "collapsed": false,
    "pycharm": {
     "name": "#%%\n"
    }
   }
  },
  {
   "cell_type": "code",
   "execution_count": 150,
   "outputs": [
    {
     "name": "stdout",
     "output_type": "stream",
     "text": [
      "P3 sentence, search.groups()\n"
     ]
    },
    {
     "data": {
      "text/plain": "(':', 'O')"
     },
     "execution_count": 150,
     "metadata": {},
     "output_type": "execute_result"
    }
   ],
   "source": [
    "print('P3 sentence, search.groups()')\n",
    "search_sentence3.groups()"
   ],
   "metadata": {
    "collapsed": false,
    "pycharm": {
     "name": "#%%\n"
    }
   }
  },
  {
   "cell_type": "code",
   "execution_count": 151,
   "outputs": [
    {
     "name": "stdout",
     "output_type": "stream",
     "text": [
      "P3 sentence, findall()\n"
     ]
    },
    {
     "data": {
      "text/plain": "[(':', 'O')]"
     },
     "execution_count": 151,
     "metadata": {},
     "output_type": "execute_result"
    }
   ],
   "source": [
    "print('P3 sentence, findall()')\n",
    "findall3"
   ],
   "metadata": {
    "collapsed": false,
    "pycharm": {
     "name": "#%%\n"
    }
   }
  },
  {
   "cell_type": "markdown",
   "source": [
    "#### Regex pattern 3."
   ],
   "metadata": {
    "collapsed": false
   }
  },
  {
   "cell_type": "code",
   "execution_count": 152,
   "outputs": [],
   "source": [
    "p4 = re.compile(r'(?:(\\S+)(?:\\t)(\\S+)\\n?)+')\n",
    "match_line4 = re.match(p4, line)\n",
    "match_sentence4 = re.match(p4, sentence)\n",
    "search_line4 = re.search(p4, line)\n",
    "search_sentence4 = re.search(p4, sentence)\n",
    "findall4 = re.findall(p4, sentence)"
   ],
   "metadata": {
    "collapsed": false,
    "pycharm": {
     "name": "#%%\n"
    }
   }
  },
  {
   "cell_type": "code",
   "execution_count": 153,
   "outputs": [
    {
     "name": "stdout",
     "output_type": "stream",
     "text": [
      "P4 line, match.groups()\n"
     ]
    },
    {
     "data": {
      "text/plain": "('Karsten', 'O')"
     },
     "execution_count": 153,
     "metadata": {},
     "output_type": "execute_result"
    }
   ],
   "source": [
    "print('P4 line, match.groups()')\n",
    "match_line4.groups()"
   ],
   "metadata": {
    "collapsed": false,
    "pycharm": {
     "name": "#%%\n"
    }
   }
  },
  {
   "cell_type": "code",
   "execution_count": 154,
   "outputs": [
    {
     "name": "stdout",
     "output_type": "stream",
     "text": [
      "P4 line, search.groups()\n"
     ]
    },
    {
     "data": {
      "text/plain": "('Karsten', 'O')"
     },
     "execution_count": 154,
     "metadata": {},
     "output_type": "execute_result"
    }
   ],
   "source": [
    "print('P4 line, search.groups()')\n",
    "search_line4.groups()"
   ],
   "metadata": {
    "collapsed": false,
    "pycharm": {
     "name": "#%%\n"
    }
   }
  },
  {
   "cell_type": "code",
   "execution_count": 155,
   "outputs": [
    {
     "name": "stdout",
     "output_type": "stream",
     "text": [
      "P4 sentence, match.groups()\n"
     ]
    },
    {
     "data": {
      "text/plain": "(':', 'O')"
     },
     "execution_count": 155,
     "metadata": {},
     "output_type": "execute_result"
    }
   ],
   "source": [
    "print('P4 sentence, match.groups()')\n",
    "match_sentence4.groups()"
   ],
   "metadata": {
    "collapsed": false,
    "pycharm": {
     "name": "#%%\n"
    }
   }
  },
  {
   "cell_type": "code",
   "execution_count": 156,
   "outputs": [
    {
     "name": "stdout",
     "output_type": "stream",
     "text": [
      "P4 sentence, search.groups()\n"
     ]
    },
    {
     "data": {
      "text/plain": "(':', 'O')"
     },
     "execution_count": 156,
     "metadata": {},
     "output_type": "execute_result"
    }
   ],
   "source": [
    "print('P4 sentence, search.groups()')\n",
    "search_sentence4.groups()"
   ],
   "metadata": {
    "collapsed": false,
    "pycharm": {
     "name": "#%%\n"
    }
   }
  },
  {
   "cell_type": "code",
   "execution_count": 157,
   "outputs": [
    {
     "name": "stdout",
     "output_type": "stream",
     "text": [
      "P4 sentence, findall()\n"
     ]
    },
    {
     "data": {
      "text/plain": "[(':', 'O')]"
     },
     "execution_count": 157,
     "metadata": {},
     "output_type": "execute_result"
    }
   ],
   "source": [
    "print('P4 sentence, findall()')\n",
    "findall4\n"
   ],
   "metadata": {
    "collapsed": false,
    "pycharm": {
     "name": "#%%\n"
    }
   }
  },
  {
   "cell_type": "markdown",
   "source": [
    "#### Try matching over several sentences:"
   ],
   "metadata": {
    "collapsed": false,
    "pycharm": {
     "name": "#%% md\n"
    }
   }
  },
  {
   "cell_type": "code",
   "execution_count": 158,
   "outputs": [],
   "source": [
    "several_sentences = '''Karsten\tO\n",
    "og\tO\n",
    "Petra\tO\n",
    "på\tO\n",
    "safari\tO\n",
    ":\tO\n",
    "\n",
    "Løvefilm\tB-targ-Negative\n",
    "som\tO\n",
    "ikke\tO\n",
    "biter\tO\n",
    "\n",
    "Litt\tO\n",
    "for\tO\n",
    "nusselig\tO\n",
    "barnefilm\tB-targ-Negative\n",
    ".\tO\n",
    "'''"
   ],
   "metadata": {
    "collapsed": false,
    "pycharm": {
     "name": "#%%\n"
    }
   }
  },
  {
   "cell_type": "code",
   "execution_count": 159,
   "outputs": [],
   "source": [
    "# Use pattern 1 : (r'(?:(\\S+)(?:\\t)(\\S+))+')\n",
    "findall_ = re.findall(p1, several_sentences)"
   ],
   "metadata": {
    "collapsed": false,
    "pycharm": {
     "name": "#%%\n"
    }
   }
  },
  {
   "cell_type": "code",
   "execution_count": 160,
   "outputs": [
    {
     "name": "stdout",
     "output_type": "stream",
     "text": [
      "P1 several_sentences, findall()\n"
     ]
    },
    {
     "data": {
      "text/plain": "[('Karsten', 'O'),\n ('og', 'O'),\n ('Petra', 'O'),\n ('på', 'O'),\n ('safari', 'O'),\n (':', 'O'),\n ('Løvefilm', 'B-targ-Negative'),\n ('som', 'O'),\n ('ikke', 'O'),\n ('biter', 'O'),\n ('Litt', 'O'),\n ('for', 'O'),\n ('nusselig', 'O'),\n ('barnefilm', 'B-targ-Negative'),\n ('.', 'O')]"
     },
     "execution_count": 160,
     "metadata": {},
     "output_type": "execute_result"
    }
   ],
   "source": [
    "print('P1 several_sentences, findall()')\n",
    "findall_"
   ],
   "metadata": {
    "collapsed": false,
    "pycharm": {
     "name": "#%%\n"
    }
   }
  },
  {
   "cell_type": "markdown",
   "source": [
    "Read entire file as string."
   ],
   "metadata": {
    "collapsed": false,
    "pycharm": {
     "name": "#%% md\n"
    }
   }
  },
  {
   "cell_type": "code",
   "source": [
    "doc = None\n",
    "with open('/home/fero/Desktop/nlp/in5550-2020-exam/data/raw/dev.conll', 'r') as f:\n",
    "    doc = f.read()"
   ],
   "metadata": {
    "collapsed": false,
    "pycharm": {
     "name": "#%%\n"
    }
   },
   "execution_count": 161,
   "outputs": []
  },
  {
   "cell_type": "code",
   "execution_count": 162,
   "outputs": [
    {
     "data": {
      "text/plain": "'Karsten\\tO\\nog'"
     },
     "execution_count": 162,
     "metadata": {},
     "output_type": "execute_result"
    }
   ],
   "source": [
    "doc[:12]"
   ],
   "metadata": {
    "collapsed": false,
    "pycharm": {
     "name": "#%%\n"
    }
   }
  },
  {
   "cell_type": "markdown",
   "source": [
    "Split doc on double newline: `\\n\\n`"
   ],
   "metadata": {
    "collapsed": false,
    "pycharm": {
     "name": "#%% md\n"
    }
   }
  },
  {
   "cell_type": "code",
   "execution_count": 163,
   "outputs": [
    {
     "data": {
      "text/plain": "['Karsten\\tO\\nog\\tO\\nPetra\\tO\\npå\\tO\\nsafari\\tO\\n:\\tO',\n 'Løvefilm\\tB-targ-Negative\\nsom\\tO\\nikke\\tO\\nbiter\\tO',\n 'Litt\\tO\\nfor\\tO\\nnusselig\\tO\\nbarnefilm\\tB-targ-Negative\\n.\\tO',\n 'Den\\tO\\nfjerde\\tO\\nKarsten\\tO\\nog\\tO\\nPetra\\tO\\n-\\tO\\nfilmen\\tB-targ-Negative\\ner\\tO\\ntrolig\\tO\\nnervepirrende\\tO\\nnok\\tO\\nfor\\tO\\nde\\tO\\naller\\tO\\nyngste\\tO\\n,\\tO\\nmen\\tO\\nfor\\tO\\nandre\\tO\\nfremstår\\tO\\nden\\tO\\nlike\\tO\\nnusselig\\tO\\nog\\tO\\nharmløs\\tO\\nsom\\tO\\nen\\tO\\nnyfødt\\tO\\nløveunge\\tO\\n.\\tO',\n 'I\\tO\\nsommer\\tO\\nfikk\\tO\\ndrapet\\tO\\npå\\tO\\nløven\\tO\\nCecil\\tO\\ni\\tO\\nZimbabwe\\tO\\ninternett\\tO\\ntil\\tO\\nå\\tO\\nkoke\\tO\\n.\\tO']"
     },
     "execution_count": 163,
     "metadata": {},
     "output_type": "execute_result"
    }
   ],
   "source": [
    "split_doc = doc.split('\\n\\n')\n",
    "split_doc[:5]"
   ],
   "metadata": {
    "collapsed": false,
    "pycharm": {
     "name": "#%%\n"
    }
   }
  },
  {
   "cell_type": "markdown",
   "source": [
    "For each item in `split_doc`, i.e. each sentence, try to apply the pattern using `findall()`."
   ],
   "metadata": {
    "collapsed": false,
    "pycharm": {
     "name": "#%% md\n"
    }
   }
  },
  {
   "cell_type": "code",
   "execution_count": 164,
   "outputs": [],
   "source": [
    "pattern = re.compile((r'(?:(\\S+)(?:\\t)(\\S+))+'))\n",
    "matches = []\n",
    "\n",
    "for sent in split_doc[:5]:\n",
    "    match = re.findall(pattern, sent)\n",
    "    if match:\n",
    "        matches.append(match)\n",
    "    else:\n",
    "        print(f'No match found for sentence:\\n{sent}')"
   ],
   "metadata": {
    "collapsed": false,
    "pycharm": {
     "name": "#%%\n"
    }
   }
  },
  {
   "cell_type": "code",
   "execution_count": 165,
   "outputs": [
    {
     "name": "stdout",
     "output_type": "stream",
     "text": [
      "('Karsten', 'O')\n",
      "('og', 'O')\n",
      "('Petra', 'O')\n",
      "('på', 'O')\n",
      "('safari', 'O')\n",
      "(':', 'O')\n",
      "\n",
      "('Den', 'O')\n",
      "('fjerde', 'O')\n",
      "('Karsten', 'O')\n",
      "('og', 'O')\n",
      "('Petra', 'O')\n",
      "('-', 'O')\n",
      "('filmen', 'B-targ-Negative')\n",
      "('er', 'O')\n",
      "('trolig', 'O')\n",
      "('nervepirrende', 'O')\n",
      "('nok', 'O')\n",
      "('for', 'O')\n",
      "('de', 'O')\n",
      "('aller', 'O')\n",
      "('yngste', 'O')\n",
      "(',', 'O')\n",
      "('men', 'O')\n",
      "('for', 'O')\n",
      "('andre', 'O')\n",
      "('fremstår', 'O')\n",
      "('den', 'O')\n",
      "('like', 'O')\n",
      "('nusselig', 'O')\n",
      "('og', 'O')\n",
      "('harmløs', 'O')\n",
      "('som', 'O')\n",
      "('en', 'O')\n",
      "('nyfødt', 'O')\n",
      "('løveunge', 'O')\n",
      "('.', 'O')\n"
     ]
    }
   ],
   "source": [
    "print(*matches[0], sep='\\n')\n",
    "print()\n",
    "print(*matches[3], sep='\\n')\n"
   ],
   "metadata": {
    "collapsed": false,
    "pycharm": {
     "name": "#%%\n"
    }
   }
  }
 ],
 "metadata": {
  "kernelspec": {
   "display_name": "Python 3",
   "language": "python",
   "name": "python3"
  },
  "language_info": {
   "codemirror_mode": {
    "name": "ipython",
    "version": 2
   },
   "file_extension": ".py",
   "mimetype": "text/x-python",
   "name": "python",
   "nbconvert_exporter": "python",
   "pygments_lexer": "ipython2",
   "version": "2.7.6"
  }
 },
 "nbformat": 4,
 "nbformat_minor": 0
}