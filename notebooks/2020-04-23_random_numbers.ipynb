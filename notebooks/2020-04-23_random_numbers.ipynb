{
 "cells": [
  {
   "cell_type": "raw",
   "metadata": {
    "collapsed": true,
    "pycharm": {
     "name": "#%% raw\n"
    }
   },
   "source": [
    "\n",
    "<script>\n",
    "code_show=true;\n",
    "function code_toggle() {\n",
    " if (code_show){\n",
    " $('div.input').hide();\n",
    " } else {\n",
    " $('div.input').show();\n",
    " }\n",
    " code_show = !code_show\n",
    "}\n",
    "$( document ).ready(code_toggle);\n",
    "</script>\n",
    "<form action=\"javascript:code_toggle()\"><input type=\"submit\" value=\"Click here to toggle on/off the raw code.\"></form>\n"
   ]
  },
  {
   "cell_type": "markdown",
   "source": [
    "# Overview"
   ],
   "metadata": {
    "collapsed": false
   }
  },
  {
   "cell_type": "markdown",
   "source": [
    "## Objective\n",
    "\n",
    "## Guiding Questions:\n",
    "1. How can I ensure reproducibility without using the sort-of deprecated numpy random library?\n",
    "2. Will setting a global seed through TensorFlow ensure reproducibility across runs if the operation level seeds are constant?\n",
    "3. Which one is the better option in this project?\n",
    "\n",
    "## Key findings\n",
    "1. If possible, use the TensorFlow random generator.\n",
    "2. Setting a global seed, and static operational seeds, ensures reproducibility, so far as I can see at least.\n",
    "3. Irrelevant for now. I will go with the TF option unless I encounter a reason not to."
   ],
   "metadata": {
    "collapsed": false
   }
  },
  {
   "cell_type": "markdown",
   "source": [
    "## Imports and setup"
   ],
   "metadata": {
    "collapsed": false
   }
  },
  {
   "cell_type": "code",
   "execution_count": 1,
   "outputs": [
    {
     "name": "stderr",
     "output_type": "stream",
     "text": [
      "WARNING:root:Limited tf.compat.v2.summary API due to missing TensorBoard installation.\n",
      "WARNING:root:Limited tf.compat.v2.summary API due to missing TensorBoard installation.\n",
      "WARNING:root:Limited tf.compat.v2.summary API due to missing TensorBoard installation.\n",
      "WARNING:root:Limited tf.compat.v2.summary API due to missing TensorBoard installation.\n",
      "WARNING:root:Limited tf.compat.v2.summary API due to missing TensorBoard installation.\n",
      "WARNING:root:Limited tf.compat.v2.summary API due to missing TensorBoard installation.\n",
      "WARNING:root:Limited tf.summary API due to missing TensorBoard installation.\n",
      "WARNING:root:Limited tf.compat.v2.summary API due to missing TensorBoard installation.\n",
      "WARNING:root:Limited tf.compat.v2.summary API due to missing TensorBoard installation.\n",
      "WARNING:root:Limited tf.compat.v2.summary API due to missing TensorBoard installation.\n"
     ]
    }
   ],
   "source": [
    "# must go first\n",
    "%matplotlib inline\n",
    "%config InlineBackend.figure_format='retina'\n",
    "\n",
    "# Reloads functions each time so you can edit a script\n",
    "# and not need to restart the kernel\n",
    "%load_ext autoreload\n",
    "%autoreload 2\n",
    "\n",
    "# plotting\n",
    "import matplotlib as mpl\n",
    "from matplotlib import pyplot as plt\n",
    "import seaborn as sns\n",
    "sns.set_context(\"poster\", font_scale=1.3)\n",
    "\n",
    "import sys\n",
    "import os\n",
    "import datetime\n",
    "\n",
    "sns.set()\n",
    "sns.set_context('poster', font_scale=1.3)\n",
    "sns.set_style(\"white\")\n",
    "\n",
    "import warnings\n",
    "warnings.filterwarnings('ignore')\n",
    "\n",
    "# basic wrangling\n",
    "import numpy as np\n",
    "import re\n",
    "import pandas as pd\n",
    "\n",
    "# tensorflow stuff\n",
    "import tensorflow as tf\n",
    "\n",
    "# Update matplotlib defaults to something nicer\n",
    "mpl_update = {\n",
    "    'font.size': 16,\n",
    "    'xtick.labelsize': 14,\n",
    "    'ytick.labelsize': 14,\n",
    "    'figure.figsize': [12.0, 8.0],\n",
    "    'axes.labelsize': 20,\n",
    "    'axes.labelcolor': '#677385',\n",
    "    'axes.titlesize': 20,\n",
    "    'lines.color': '#0055A7',\n",
    "    'lines.linewidth': 3,\n",
    "    'text.color': '#677385',\n",
    "    'font.family': 'sans-serif',\n",
    "    'font.sans-serif': 'Tahoma'\n",
    "}\n",
    "mpl.rcParams.update(mpl_update)\n"
   ],
   "metadata": {
    "collapsed": false,
    "pycharm": {
     "name": "#%%\n"
    }
   }
  },
  {
   "cell_type": "markdown",
   "source": [
    "Setting the global seed using `tf.random.set_seed(9001)`"
   ],
   "metadata": {
    "collapsed": false,
    "pycharm": {
     "name": "#%% md\n"
    }
   }
  },
  {
   "cell_type": "code",
   "execution_count": 2,
   "outputs": [],
   "source": [
    "tf.random.set_seed(9001)"
   ],
   "metadata": {
    "collapsed": false,
    "pycharm": {
     "name": "#%%\n"
    }
   }
  },
  {
   "cell_type": "code",
   "execution_count": 3,
   "outputs": [
    {
     "name": "stdout",
     "output_type": "stream",
     "text": [
      "tf.Tensor(\n",
      "[[0.49998724 0.5601554  0.4960822  0.04304016]\n",
      " [0.47926795 0.00552392 0.1810143  0.06998742]], shape=(2, 4), dtype=float32)\n"
     ]
    }
   ],
   "source": [
    "rand_one = tf.random.uniform(shape=(2, 4), seed=42)\n",
    "print(rand_one)"
   ],
   "metadata": {
    "collapsed": false,
    "pycharm": {
     "name": "#%%\n"
    }
   }
  },
  {
   "cell_type": "markdown",
   "source": [
    "rand_one, round one\n",
    "`tf.Tensor(`\n",
    "`[[0.49998724 0.5601554  0.4960822  0.04304016]`\n",
    " `[0.47926795 0.00552392 0.1810143  0.06998742]], shape=(2, 4), dtype=float32)`\n",
    "\n",
    "rand_one, round two\n",
    "`tf.Tensor(`\n",
    "`[[0.49998724 0.5601554  0.4960822  0.04304016]`\n",
    " `[0.47926795 0.00552392 0.1810143  0.06998742]], shape=(2, 4), dtype=float32)`\n"
   ],
   "metadata": {
    "collapsed": false,
    "pycharm": {
     "name": "#%% md\n"
    }
   }
  },
  {
   "cell_type": "code",
   "execution_count": 4,
   "outputs": [
    {
     "name": "stdout",
     "output_type": "stream",
     "text": [
      "tf.Tensor(\n",
      "[[0.60508657 0.91349447 0.06239617 0.2568611 ]\n",
      " [0.6968026  0.16277087 0.13398087 0.69243324]], shape=(2, 4), dtype=float32)\n"
     ]
    }
   ],
   "source": [
    "rand_two = tf.random.uniform(shape=(2, 4), seed=42)\n",
    "print(rand_two)"
   ],
   "metadata": {
    "collapsed": false,
    "pycharm": {
     "name": "#%%\n"
    }
   }
  },
  {
   "cell_type": "markdown",
   "source": [
    "rand_two, round one\n",
    "`tf.Tensor(`\n",
    "`[[0.60508657 0.91349447 0.06239617 0.2568611 ]`\n",
    " `[0.6968026  0.16277087 0.13398087 0.69243324]], shape=(2, 4), dtype=float32)`\n",
    "\n",
    "rand_two, round two\n",
    "`tf.Tensor(`\n",
    "`[[0.60508657 0.91349447 0.06239617 0.2568611 ]`\n",
    " `[0.6968026  0.16277087 0.13398087 0.69243324]], shape=(2, 4), dtype=float32)`\n"
   ],
   "metadata": {
    "collapsed": false,
    "pycharm": {
     "name": "#%% md\n"
    }
   }
  }
 ],
 "metadata": {
  "kernelspec": {
   "display_name": "Python 3",
   "language": "python",
   "name": "python3"
  },
  "language_info": {
   "codemirror_mode": {
    "name": "ipython",
    "version": 2
   },
   "file_extension": ".py",
   "mimetype": "text/x-python",
   "name": "python",
   "nbconvert_exporter": "python",
   "pygments_lexer": "ipython2",
   "version": "2.7.6"
  }
 },
 "nbformat": 4,
 "nbformat_minor": 0
}