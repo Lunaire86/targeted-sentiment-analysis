{
 "cells": [
  {
   "cell_type": "markdown",
   "metadata": {
    "collapsed": true,
    "pycharm": {
     "name": "#%% md\n"
    }
   },
   "source": [
    "# A collection of references that may, or may not, be of interest"
   ]
  },
  {
   "cell_type": "markdown",
   "source": [
    "## NoReC combined with Norsk Aviskorpus\n",
    "### Ideas\n",
    "- train word vectors on the two combined\n",
    " - fastText Skipgram\n",
    " - Gensim Continuous Bag of Words (CBOW)\n"
   ],
   "metadata": {
    "collapsed": false
   }
  }
 ],
 "metadata": {
  "kernelspec": {
   "display_name": "Python 3",
   "language": "python",
   "name": "python3"
  },
  "language_info": {
   "codemirror_mode": {
    "name": "ipython",
    "version": 2
   },
   "file_extension": ".py",
   "mimetype": "text/x-python",
   "name": "python",
   "nbconvert_exporter": "python",
   "pygments_lexer": "ipython2",
   "version": "2.7.6"
  }
 },
 "nbformat": 4,
 "nbformat_minor": 0
}